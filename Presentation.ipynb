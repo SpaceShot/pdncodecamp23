{
 "cells": [
  {
   "cell_type": "markdown",
   "metadata": {
    "dotnet_interactive": {
     "language": "csharp"
    },
    "polyglot_notebook": {
     "kernelName": "csharp"
    },
    "slideshow": {
     "slide_type": "slide"
    }
   },
   "source": [
    "# Blazor United: The future of ASP.NET Core\n",
    "## Chris Gomez\n",
    "### [@SpaceShot](https://twitter.com/SpaceShot)"
   ]
  },
  {
   "cell_type": "markdown",
   "metadata": {
    "slideshow": {
     "slide_type": "subslide"
    }
   },
   "source": [
    "# Copilot advice on this talk\n",
    "<img src=\"img/copilot-on-blazor.png\" style=\"max-height: 100%; max-width: 100%;\" alt=\"Copilot advice\">"
   ]
  },
  {
   "cell_type": "markdown",
   "metadata": {
    "slideshow": {
     "slide_type": "subslide"
    }
   },
   "source": [
    "# Also Copilot advice on this talk\n",
    "<img src=\"img/also-copilot-on-blazor.png\" style=\"max-height: 100%; max-width: 100%;\" alt=\"Also Copilot advice\">"
   ]
  },
  {
   "cell_type": "markdown",
   "metadata": {
    "slideshow": {
     "slide_type": "slide"
    }
   },
   "source": [
    "# The Dev Talk Show\n",
    "\n",
    "## The Dev Talk Show is now live before your daily standup!\n",
    "\n",
    "- Starts between 7:45a-8:00a\n",
    "- Ends at 9:00a\n",
    "- No set schedule yet (sorry)\n",
    "- Streaming on Twitch, YouTube, and Twitter\n",
    "  - https://twitch.tv/thedevtalkshow\n",
    "  - https://youtube.com/thedevtalkshow\n",
    "  - [Follow @TheDevTalkShow on Twitter](https://twitter.com/thedevtalkshow)\n",
    "\n",
    "\n",
    "[www.thedevtalkshow.com](https://www.thedevtalkshow.com)\n",
    "\n",
    "All replays: [youtube.com/thedevtalkshow](https://www.youtube.com/thedevtalkshow)"
   ]
  },
  {
   "cell_type": "markdown",
   "metadata": {
    "slideshow": {
     "slide_type": "slide"
    }
   },
   "source": [
    "# Installation Tips\n",
    "## Everything today is for .NET 8 Previews\n",
    "\n",
    "Visual Studio IDE users need to use [Visual Studio 2022 Preview](https://visualstudio.microsoft.com/vs/preview/).\n",
    "\n",
    "Visual Studio Code works as well.  .NET Downloads at [dot.net/next](https:/dot.net/next).\n",
    "or try WinGet: \n",
    "\n",
    "`winget install --id 'Microsoft.DotNet.SDK.Preview'`"
   ]
  },
  {
   "cell_type": "markdown",
   "metadata": {
    "slideshow": {
     "slide_type": "slide"
    }
   },
   "source": [
    "# ASP.NET Core web UI\n",
    "\n",
    "## Three Major Choices\n",
    "\n",
    "- ASP.NET Core MVC\n",
    "    - Controller Based, MVC Pattern\n",
    "    - Server-Side Rendering\n",
    "- ASP.NET Core Razor Pages\n",
    "    - Page Based\n",
    "    - Server-Side Rendering\n",
    "- ASP.NET Core Blazor\n",
    "    - **Component Based**\n",
    "    - Client-Rendered with WebAssembly or SignalR based models\n",
    "\n",
    "From the Docs: [Choose an ASP.NET Core web UI](https://learn.microsoft.com/en-us/aspnet/core/tutorials/choose-web-ui?view=aspnetcore-8.0) "
   ]
  },
  {
   "cell_type": "markdown",
   "metadata": {
    "slideshow": {
     "slide_type": "notes"
    }
   },
   "source": [
    "ASP.NET MVC 1.0 release in 2009\n",
    "Primarily a response to Ruby on Rails... a nod to architecture over VB6 style code-behind, widget based development\n",
    "\n",
    "NuGet also comes out and changes how we approach dependencies in the entire .NET ecosystem."
   ]
  },
  {
   "cell_type": "markdown",
   "metadata": {
    "slideshow": {
     "slide_type": "slide"
    }
   },
   "source": [
    "# Blazor - a short history\n",
    "\n",
    "- First appeared in ASP.NET Core 3.0 (2019)\n",
    "- Applications selected a [hosting model](https://learn.microsoft.com/en-us/aspnet/core/blazor/hosting-models?view=aspnetcore-8.0)\n",
    "    - Blazor WebAssembly\n",
    "    - Blazor Server\n",
    "<div class=\"grid-container\">\n",
    "    <img src=\"img/blazor-webassembly.png\" style=\"max-height: 250px; max-width: 100%;\" alt=\"Blazor WebAssembly Hosting Model\">\n",
    "    <img src=\"img/blazor-server.png\" style=\"max-height: 460px; max-width: 100%;\" alt=\"Blazor Server Hosting Model\">\n",
    "<div>\n",
    "<style>\n",
    "    .grid-container \n",
    "    {\n",
    "        position: relative;\n",
    "        right : 120px;\n",
    "        display: grid;\n",
    "        column-gap: 25px;\n",
    "        grid-template-columns: auto auto;\n",
    "    }\n",
    "</style>\n",
    "\n",
    "From The Docs: [ASP.NET Core Blazor hosting models](https://learn.microsoft.com/en-us/aspnet/core/blazor/hosting-models?view=aspnetcore-8.0)\n"
   ]
  },
  {
   "cell_type": "markdown",
   "metadata": {
    "slideshow": {
     "slide_type": "notes"
    }
   },
   "source": [
    "https://learn.microsoft.com/en-us/aspnet/core/blazor/hosting-models?view=aspnetcore-8.0\n",
    "\n",
    "Blazor is a component based framework that received a lot of attention for being a client-side-rendered approach using WebAssembly.  Plenty of people seemed to think Blazor WAS WebAssembly.\n",
    "\n",
    "Note the matrix on this page:\n",
    "https://learn.microsoft.com/en-us/aspnet/core/blazor/hosting-models?view=aspnetcore-8.0#which-blazor-hosting-model-should-i-choose\n",
    "\"A component's hosting model is set by its render mode, either at compile time or runtime\"\n",
    "\n",
    "Note the various factors to consider in each hosting model.\n",
    "\n",
    "Then note what it said for .NET 7.0\n",
    "https://learn.microsoft.com/en-us/aspnet/core/blazor/hosting-models?view=aspnetcore-7.0#which-blazor-hosting-model-should-i-choose\n",
    "\"Select the Blazor hosting model based on the app's feature requirements.\""
   ]
  },
  {
   "cell_type": "markdown",
   "metadata": {
    "slideshow": {
     "slide_type": "slide"
    }
   },
   "source": [
    "# Blazor in ASP.NET Core 8.0\n",
    "\n",
    "## Render Modes Are Now The Foundation\n",
    "\n",
    "- Static\n",
    "- Interactive Server\n",
    "- Interactive WebAssembly\n",
    "- Interactive Auto\n",
    "\n",
    "From the Docs: [ASP.NET Core Blazor render modes](https://learn.microsoft.com/en-us/aspnet/core/blazor/components/render-modes?view=aspnetcore-8.0#render-modes)\n",
    "\n",
    "Coder Foundry's Demo and Sample:\n",
    "\n",
    "Demo: https://www.youtube.com/watch?v=u4azTLLGt8U&t=654s\n",
    "\n",
    "Sample: https://github.com/CoderFoundry/BlazorRenderModes"
   ]
  },
  {
   "cell_type": "markdown",
   "metadata": {
    "slideshow": {
     "slide_type": "slide"
    }
   },
   "source": [
    "# Enhanced Navigation\n",
    "\n",
    "Normal navigation: A full-page reload is triggered when the user navigates to a different page.\n",
    "\n",
    "Enhanced navigation: Blazor automatically intercepts the request and performs a fecth request to the server.  Blazor patches the response into the DOM.\n",
    "\n",
    "This works in Server Side Rendering (Static Render Mode) and is where it really stands out!\n",
    "\n",
    "(Note for forms this is an opt-in behavior beginning in RC2)\n",
    "\n",
    "From the Docs: [Enhanced navigation and form handling](https://learn.microsoft.com/en-us/aspnet/core/blazor/fundamentals/routing?preserve-view=true&view=aspnetcore-8.0#enhanced-navigation-and-form-handling)"
   ]
  },
  {
   "cell_type": "markdown",
   "metadata": {
    "slideshow": {
     "slide_type": "slide"
    }
   },
   "source": [
    "# Render Razor Components Outside of ASP.NET Core\n",
    "\n",
    "- Blazor components can be rendered outside of ASP.NET Core\n",
    "    - Console apps or services that can benefit from HTML fragments\n",
    "    - Not the same thing as [Blazor Hybrid](https://docs.microsoft.com/en-us/aspnet/core/blazor/hybrid?view=aspnetcore-8.0)\n",
    "        - Blazor Hybrid provides support for .NET MAUI, WPF, WinForms, etc.\n",
    "    \n",
    "From the Docs: [Render Razor components outside of ASP.NET Core](https://learn.microsoft.com/en-us/aspnet/core/blazor/components/render-components-outside-of-aspnetcore?view=aspnetcore-8.0)"
   ]
  },
  {
   "cell_type": "markdown",
   "metadata": {
    "slideshow": {
     "slide_type": "slide"
    }
   },
   "source": [
    "<div id='ssr'>Server Side Rendering</div>\n",
    "<style>\n",
    "    #ssr {\n",
    "        position: fixed;\n",
    "        top: 10%;\n",
    "        left: 15%;\n",
    "        text-align: center;\n",
    "        width: 250px;\n",
    "        border: 1px solid black;\n",
    "        background-color: #89E3FF;\n",
    "    }\n",
    "</style>"
   ]
  }
 ],
 "metadata": {
  "kernelspec": {
   "display_name": "Python 3",
   "language": "python",
   "name": "python3"
  },
  "language_info": {
   "codemirror_mode": {
    "name": "ipython",
    "version": 3
   },
   "file_extension": ".py",
   "mimetype": "text/x-python",
   "name": "python",
   "nbconvert_exporter": "python",
   "pygments_lexer": "ipython3",
   "version": "3.12.0"
  },
  "orig_nbformat": 4,
  "polyglot_notebook": {
   "kernelInfo": {
    "defaultKernelName": "csharp",
    "items": [
     {
      "aliases": [],
      "name": "csharp"
     }
    ]
   }
  }
 },
 "nbformat": 4,
 "nbformat_minor": 2
}
